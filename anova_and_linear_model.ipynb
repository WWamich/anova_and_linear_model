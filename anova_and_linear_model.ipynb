{
  "nbformat": 4,
  "nbformat_minor": 0,
  "metadata": {
    "colab": {
      "provenance": [],
      "authorship_tag": "ABX9TyNcqtFiy8H4F902PAsFLEM2"
    },
    "kernelspec": {
      "name": "ir",
      "display_name": "R"
    },
    "language_info": {
      "name": "R"
    }
  },
  "cells": [
    {
      "cell_type": "markdown",
      "source": [
        "Продолжим исследовать цену на недвижимость в окрестностях Сиэттла. Подключим файл и все необходимые компоненты:"
      ],
      "metadata": {
        "id": "Gb5TVh-tqJMp"
      }
    },
    {
      "cell_type": "code",
      "execution_count": null,
      "metadata": {
        "id": "9L2k6f_iVRoq"
      },
      "outputs": [],
      "source": [
        "data <- read.csv(\"kc_house_data.csv\", header = TRUE, stringsAsFactors = FALSE)\n",
        "if (!require(\"lmtest\")) install.packages(\"lmtest\")\n",
        "if (!require(\"car\")) install.packages(\"car\")\n",
        "if (!require(\"nortest\")) install.packages(\"nortest\")\n",
        "if (!require(\"ggplot2\")) install.packages(\"ggplot2\")\n",
        "if (!require(\"tseries\")) install.packages(\"tseries\")\n",
        "if (!require(\"dplyr\")) install.packages(\"dplyr\")\n",
        "library(lmtest)\n",
        "library(car)\n",
        "library(tseries)\n",
        "library(dplyr)\n",
        "library(nortest)\n",
        "library(ggplot2)"
      ]
    },
    {
      "cell_type": "markdown",
      "source": [
        "Создадим матрицу X и вектор y:\n",
        "\n"
      ],
      "metadata": {
        "id": "nSgYm52CuHZJ"
      }
    },
    {
      "cell_type": "code",
      "source": [
        "lin_model <- model.matrix(~ sqft_living + sqft_lot + sqft_above, data = data)\n",
        "X <- lin_model\n",
        "y <- data$price"
      ],
      "metadata": {
        "id": "D7_xZ9b4uFKz"
      },
      "execution_count": null,
      "outputs": []
    },
    {
      "cell_type": "markdown",
      "source": [
        "Оценим коэффициенты с помощью формулы:\n",
        "\n",
        "$\\hat \\beta = (X^T X)^{-1}X^Ty$, \\\n",
        "где X - матрица независимых переменных с добавленным столбцом единиц для свободного коэффициента \\\n",
        "y - вектор зависимой переменной\n",
        "\n"
      ],
      "metadata": {
        "id": "eWfuGHYaIBzV"
      }
    },
    {
      "cell_type": "code",
      "source": [
        "beta_hat <- solve(t(X) %*% X) %*% t(X) %*% y\n",
        "cat(\"Оценки коэффициентов:\", beta_hat)"
      ],
      "metadata": {
        "colab": {
          "base_uri": "https://localhost:8080/"
        },
        "id": "LbKE9pWxIC8V",
        "outputId": "21ccbc98-5c7d-4fae-b39b-1b7022ce46b6"
      },
      "execution_count": null,
      "outputs": [
        {
          "output_type": "stream",
          "name": "stdout",
          "text": [
            "Оценки коэффициентов: -41445.12 296.1516 -0.2781841 -16.90343"
          ]
        }
      ]
    },
    {
      "cell_type": "markdown",
      "source": [
        "Коэффициент 296.1516, относящийся к sqrt_living означает, что увеличение жилой площади на 1 кв. фут связано с ростом цены на ~296 долларов, по крайней мере это ожидается. В дальнейшем проверим эту гипотезу."
      ],
      "metadata": {
        "id": "G7S6QgLRMRrK"
      }
    },
    {
      "cell_type": "markdown",
      "source": [
        "Далее посчитаем остаточную дисперсию: \\\n",
        "$ \\hat \\sigma^2 = \\frac{RSS}{n-k-1}$, \\\n",
        "где $ RSS = \\sum_{i=1}^{n} (y_i - \\hat y_i)^2$ - сумма квадратов остатков, \\\n",
        "n - количество наблюдений \\\n",
        "k - количество независимых переменных без учёта свободного коэффициента"
      ],
      "metadata": {
        "id": "TLomD2xaRhij"
      }
    },
    {
      "cell_type": "code",
      "source": [
        "y_hat <- X %*% beta_hat\n",
        "residuals <- y - y_hat\n",
        "RSS <- sum(residuals^2)\n",
        "n <- nrow(X)\n",
        "k <- ncol(X) - 1\n",
        "sigma_sq_hat <- RSS / (n - k - 1)\n",
        "cat(\"Остаточная дисперсия:\", sigma_sq_hat)"
      ],
      "metadata": {
        "colab": {
          "base_uri": "https://localhost:8080/"
        },
        "id": "r6GjWswURe-2",
        "outputId": "40ad9945-92c5-46cb-e978-d1736307bce4"
      },
      "execution_count": null,
      "outputs": [
        {
          "output_type": "stream",
          "name": "stdout",
          "text": [
            "Остаточная дисперсия: 68179410014"
          ]
        }
      ]
    },
    {
      "cell_type": "markdown",
      "source": [
        "Как мы видим, остаточная дисперсия очень великая. Это говорит о том, что модель объясняет малую часть вариации цен."
      ],
      "metadata": {
        "id": "7iblefwUjBOF"
      }
    },
    {
      "cell_type": "markdown",
      "source": [
        "Построим доверительный интервал для коэффициентов:"
      ],
      "metadata": {
        "id": "Vy2cis-7EUov"
      }
    },
    {
      "cell_type": "code",
      "source": [
        "conf_int <- confint(model, level = 0.95)\n",
        "cat(\"95% доверительные интервалы для коэффициентов:\", conf_int)"
      ],
      "metadata": {
        "colab": {
          "base_uri": "https://localhost:8080/"
        },
        "id": "fR86GS0qEZe6",
        "outputId": "0e8ee42c-78ca-47eb-af75-029e45b48320"
      },
      "execution_count": null,
      "outputs": [
        {
          "output_type": "stream",
          "name": "stdout",
          "text": [
            "95% доверительные интервалы для коэффициентов: -50157.31 288.2723 -0.3637132 -25.65966 -32732.94 304.031 -0.192655 -8.147197"
          ]
        }
      ]
    },
    {
      "cell_type": "markdown",
      "source": [
        "Для остаточной дисперсии:"
      ],
      "metadata": {
        "id": "KW3wBY2xFvQ8"
      }
    },
    {
      "cell_type": "code",
      "source": [
        "n <- nobs(model)\n",
        "k <- length(coef(model)) - 1\n",
        "df <- n - k - 1\n",
        "\n",
        "alpha <- 0.05\n",
        "chi2_lower <- qchisq(1 - alpha/2, df)\n",
        "chi2_upper <- qchisq(alpha/2, df)\n",
        "\n",
        "ci_lower <- (df * sigma_sq_hat) / chi2_lower\n",
        "ci_upper <- (df * sigma_sq_hat) / chi2_upper\n",
        "\n",
        "cat(sprintf(\"95%% ДИ для остаточной дисперсии: (%.2e, %.2e)\", ci_lower, ci_upper))"
      ],
      "metadata": {
        "colab": {
          "base_uri": "https://localhost:8080/"
        },
        "id": "tkbphHo7Fw0B",
        "outputId": "2e016495-11c9-46ee-87d7-9ac83da62a66"
      },
      "execution_count": null,
      "outputs": [
        {
          "output_type": "stream",
          "name": "stdout",
          "text": [
            "95% ДИ для остаточной дисперсии: (6.69e+10, 6.95e+10)"
          ]
        }
      ]
    },
    {
      "cell_type": "markdown",
      "source": [
        "Коэффициент детерминации:"
      ],
      "metadata": {
        "id": "y3pC_ILZGu2Q"
      }
    },
    {
      "cell_type": "code",
      "source": [
        "y <- data$price\n",
        "y_mean <- mean(y)\n",
        "TSS <- sum((y - y_mean)^2)\n",
        "residuals <- resid(model)\n",
        "RSS <- sum(residuals^2)\n",
        "R_squared_manual <- 1 - (RSS / TSS)\n",
        "cat(\"Коэффициент детерминации R²:\", R_squared_manual)"
      ],
      "metadata": {
        "colab": {
          "base_uri": "https://localhost:8080/"
        },
        "id": "6VkuqJUrGwhs",
        "outputId": "ab1b7e3a-bd33-437c-fbcd-efe3a61b7806"
      },
      "execution_count": null,
      "outputs": [
        {
          "output_type": "stream",
          "name": "stdout",
          "text": [
            "Коэффициент детерминации R²: 0.4942221"
          ]
        }
      ]
    },
    {
      "cell_type": "markdown",
      "source": [
        "Все коэффициенты значимы следует из доверительного интервала для коэффициентов.\n",
        "Из доверительного интервала для остаточной дисперсии модель имеет значительный разброс ошибок, что указывает на наличие неучтённых факторов, влияющих на цену.\n",
        "Из коэффициента детерминации следует что  около половины изменчивости цен связано с включёнными в модель предикторами (sqft_living, sqft_lot, sqft_above). Для улучшения модели стоит добавить новые переменные (например, местоположение, число комнат).\n"
      ],
      "metadata": {
        "id": "A7Z6807njF1V"
      }
    },
    {
      "cell_type": "markdown",
      "source": [
        "Теперь проверим нормальность остатков:"
      ],
      "metadata": {
        "id": "cYcDtuIbMZm4"
      }
    },
    {
      "cell_type": "code",
      "source": [
        "jb_test <- jarque.bera.test(resid(model))\n",
        "cat(\"\\nТест Харке-Бера:\\n\")\n",
        "print(jb_test)\n",
        "par(mfrow = c(1,2))\n",
        "hist(resid(model), main = \"Гистограмма остатков\", col = \"lightblue\")\n",
        "qqPlot(resid(model), main = \"QQ-plot остатков\", col = \"blue\")"
      ],
      "metadata": {
        "colab": {
          "base_uri": "https://localhost:8080/",
          "height": 593
        },
        "id": "oMKFYVdvMcku",
        "outputId": "df1fe55e-239f-441a-ab62-6c018432c609"
      },
      "execution_count": null,
      "outputs": [
        {
          "output_type": "stream",
          "name": "stdout",
          "text": [
            "\n",
            "Тест Харке-Бера:\n",
            "\n",
            "\tJarque Bera Test\n",
            "\n",
            "data:  resid(model)\n",
            "X-squared = 535921, df = 2, p-value < 2.2e-16\n",
            "\n"
          ]
        },
        {
          "output_type": "display_data",
          "data": {
            "text/html": [
              "<style>\n",
              ".list-inline {list-style: none; margin:0; padding: 0}\n",
              ".list-inline>li {display: inline-block}\n",
              ".list-inline>li:not(:last-child)::after {content: \"\\00b7\"; padding: 0 .5ex}\n",
              "</style>\n",
              "<ol class=list-inline><li>7253</li><li>3915</li></ol>\n"
            ],
            "text/markdown": "1. 7253\n2. 3915\n\n\n",
            "text/latex": "\\begin{enumerate*}\n\\item 7253\n\\item 3915\n\\end{enumerate*}\n",
            "text/plain": [
              "[1] 7253 3915"
            ]
          },
          "metadata": {}
        },
        {
          "output_type": "display_data",
          "data": {
            "text/plain": [
              "Plot with title “QQ-plot остатков”"
            ],
            "image/png": "[encoded data removed]"
          },
          "metadata": {
            "image/png": {
              "width": 420,
              "height": 420
            }
          }
        }
      ]
    },
    {
      "cell_type": "markdown",
      "source": [
        "Отвергаем нормальность распределения остатков."
      ],
      "metadata": {
        "id": "Mdq_LGvfNjx0"
      }
    },
    {
      "cell_type": "markdown",
      "source": [
        "Перейдём к проверке гипотез:"
      ],
      "metadata": {
        "id": "2pTCSl5xMWgq"
      }
    },
    {
      "cell_type": "markdown",
      "source": [
        "1. Чем больше жилая площадь, тем больше цена \\\n",
        "Формализуем это. Жилая площадь - sqrt_living. Гипотезы $H_0$ и $H_1$ будут следующими: \\\n",
        "$H_0: \\beta_{sqrt\\_living} \\le 0 \\\\\n",
        "H_1: \\beta_{sqrt\\_living} > 0\n",
        "$   "
      ],
      "metadata": {
        "id": "5bYcNPTQjTUL"
      }
    },
    {
      "cell_type": "markdown",
      "source": [
        "Коэффициент при sqft_living равен 296.15 > 0, что согласуется с $H_1$"
      ],
      "metadata": {
        "id": "Pt4jZWLpmWyI"
      }
    },
    {
      "cell_type": "markdown",
      "source": [
        "Проверим теперь статистическую значимость через t-test:"
      ],
      "metadata": {
        "id": "oy-caTKWmdwJ"
      }
    },
    {
      "cell_type": "code",
      "source": [
        "model <- lm(price ~ sqft_living + sqft_lot + sqft_above, data = data)\n",
        "summary(model)"
      ],
      "metadata": {
        "colab": {
          "base_uri": "https://localhost:8080/",
          "height": 364
        },
        "id": "l9_Sxe4PkPkS",
        "outputId": "e66d5441-f8f9-4cd1-e5bb-69a6657e85da"
      },
      "execution_count": null,
      "outputs": [
        {
          "output_type": "display_data",
          "data": {
            "text/plain": [
              "\n",
              "Call:\n",
              "lm(formula = price ~ sqft_living + sqft_lot + sqft_above, data = data)\n",
              "\n",
              "Residuals:\n",
              "     Min       1Q   Median       3Q      Max \n",
              "-1443775  -147244   -22779   105537  4325358 \n",
              "\n",
              "Coefficients:\n",
              "              Estimate Std. Error t value Pr(>|t|)    \n",
              "(Intercept) -4.145e+04  4.445e+03  -9.324  < 2e-16 ***\n",
              "sqft_living  2.962e+02  4.020e+00  73.671  < 2e-16 ***\n",
              "sqft_lot    -2.782e-01  4.364e-02  -6.375 1.86e-10 ***\n",
              "sqft_above  -1.690e+01  4.467e+00  -3.784 0.000155 ***\n",
              "---\n",
              "Signif. codes:  0 ‘***’ 0.001 ‘**’ 0.01 ‘*’ 0.05 ‘.’ 0.1 ‘ ’ 1\n",
              "\n",
              "Residual standard error: 261100 on 21609 degrees of freedom\n",
              "Multiple R-squared:  0.4942,\tAdjusted R-squared:  0.4942 \n",
              "F-statistic:  7038 on 3 and 21609 DF,  p-value: < 2.2e-16\n"
            ]
          },
          "metadata": {}
        }
      ]
    },
    {
      "cell_type": "markdown",
      "source": [
        "p_value < 0.05, значит отвергаем $H_0$, а также коэффициент при sqrt_living равен 296.15 > 0 $ => $ Чем больше «жилая» площадь, тем больше цена"
      ],
      "metadata": {
        "id": "OqViCAQLwX1c"
      }
    },
    {
      "cell_type": "markdown",
      "source": [
        "2. Цена зависит от \"sqrt_lot\" \\\n",
        "Опять же формализуем это: \\\n",
        "$H_0: \\beta_{sqrt\\_lot} = 0$ \\\n",
        "$H_1: \\beta_{sqrt\\_lot} \\ne 0$"
      ],
      "metadata": {
        "id": "56RoCocU1wXV"
      }
    },
    {
      "cell_type": "markdown",
      "source": [
        "Из таблички в summary(model) мы видим что p_value = 1.86e-10, что означает что цена зависит от площади. Несмотря на то что обычно ожидается \"больший участок должен повышать стоимость\", мы имеем обратное \"больший участок должен снижать стоимость\" из-за отрицательного коэффициента sqrt_lot. \\\n",
        "В действительности же это правда, из-за нескольких факторов: \\\n",
        "1. Большие участки расположены в пригородах или сельских районах, где стоимость земли ниже из-за меньшей доступности инфраструктуры, рабочих мест и услуг.\n",
        "2. В условиях дефицита жилья и высоких цен в Сиэтле покупатели могут отдавать предпочтение более компактным и доступным по цене объектам недвижимости. Большие участки могут требовать дополнительных затрат на обслуживание и не соответствовать потребностям большинства покупателей.\n",
        "3. В Сиэтле действуют строгие правила зонирования, ограничивающие плотность застройки. В некоторых районах минимальный размер участка для строительства может быть большим, что ограничивает возможность разделения земли на более мелкие участки и строительства дополнительных единиц жилья. Это снижает потенциальную доходность больших участков, особенно если они не могут быть эффективно использованы для застройки.\n",
        "4. Новые законы в штате Вашингтон направлены на увеличение плотности застройки, включая разрешение на строительство многоквартирных домов на ранее предназначенных для односемейных домов участках. Это повышает ценность меньших участков, подходящих для такой застройки, в то время как большие участки без возможности разделения могут терять в привлекательности. \\\n",
        "Источники:\n",
        " [Axios](https://www.axios.com/local/seattle/2025/05/21/washington-state-housing-construction-reform), [The Urbanist](www.theurbanist.org/2025/05/14/the-builders-remedy-is-coming-to-washington-state/), [Benchworks](https://beachworks.org/2024/07/29/3-ways-rezoning-boosts-affordable-housing-in-seattle/?utm_source=chatgpt.com)\n",
        ""
      ],
      "metadata": {
        "id": "kBmY5bPv4-sq"
      }
    },
    {
      "cell_type": "markdown",
      "source": [
        "*3.* Проверим гипотезу $H_0$ о равенстве одновременно нулю коэффициентов при \"жилой\" площади и \"sqrt-above\" против альтернативы $H_1 = \\bar{H_0}$"
      ],
      "metadata": {
        "id": "MbxnW2sUzUWQ"
      }
    },
    {
      "cell_type": "markdown",
      "source": [
        "Формализуем это: \\\n",
        "Гипотеза $H_0: B_{sqrt\\_living} =B_{sqrt\\_above} = 0 $ \\\n",
        "Гипотеза $H_1:$ хотя бы $1 \\ne 0$ \\\n",
        "Для равенства моделей воспользуемся F-test: \\\n",
        "Создадим полную модель, затем ограниченную и проведём F-test:"
      ],
      "metadata": {
        "id": "tzSSTvoS0A-G"
      }
    },
    {
      "cell_type": "code",
      "source": [
        "full_model <- lm(price ~ sqft_living + sqft_lot + sqft_above, data = data)\n",
        "restricted_model <- lm(price ~ sqft_lot, data = data)\n",
        "anova(restricted_model, full_model)"
      ],
      "metadata": {
        "id": "E-ER1Wlb3ckw",
        "colab": {
          "base_uri": "https://localhost:8080/",
          "height": 161
        },
        "outputId": "c7b4ea8d-d23f-4050-fb8d-7780d7ebbd5d"
      },
      "execution_count": null,
      "outputs": [
        {
          "output_type": "display_data",
          "data": {
            "text/html": [
              "<table class=\"dataframe\">\n",
              "<caption>A anova: 2 × 6</caption>\n",
              "<thead>\n",
              "\t<tr><th></th><th scope=col>Res.Df</th><th scope=col>RSS</th><th scope=col>Df</th><th scope=col>Sum of Sq</th><th scope=col>F</th><th scope=col>Pr(&gt;F)</th></tr>\n",
              "\t<tr><th></th><th scope=col>&lt;dbl&gt;</th><th scope=col>&lt;dbl&gt;</th><th scope=col>&lt;dbl&gt;</th><th scope=col>&lt;dbl&gt;</th><th scope=col>&lt;dbl&gt;</th><th scope=col>&lt;dbl&gt;</th></tr>\n",
              "</thead>\n",
              "<tbody>\n",
              "\t<tr><th scope=row>1</th><td>21611</td><td>2.889500e+15</td><td>NA</td><td>          NA</td><td>      NA</td><td>NA</td></tr>\n",
              "\t<tr><th scope=row>2</th><td>21609</td><td>1.473289e+15</td><td> 2</td><td>1.416211e+15</td><td>10385.91</td><td> 0</td></tr>\n",
              "</tbody>\n",
              "</table>\n"
            ],
            "text/markdown": "\nA anova: 2 × 6\n\n| <!--/--> | Res.Df &lt;dbl&gt; | RSS &lt;dbl&gt; | Df &lt;dbl&gt; | Sum of Sq &lt;dbl&gt; | F &lt;dbl&gt; | Pr(&gt;F) &lt;dbl&gt; |\n|---|---|---|---|---|---|---|\n| 1 | 21611 | 2.889500e+15 | NA |           NA |       NA | NA |\n| 2 | 21609 | 1.473289e+15 |  2 | 1.416211e+15 | 10385.91 |  0 |\n\n",
            "text/latex": "A anova: 2 × 6\n\\begin{tabular}{r|llllll}\n  & Res.Df & RSS & Df & Sum of Sq & F & Pr(>F)\\\\\n  & <dbl> & <dbl> & <dbl> & <dbl> & <dbl> & <dbl>\\\\\n\\hline\n\t1 & 21611 & 2.889500e+15 & NA &           NA &       NA & NA\\\\\n\t2 & 21609 & 1.473289e+15 &  2 & 1.416211e+15 & 10385.91 &  0\\\\\n\\end{tabular}\n",
            "text/plain": [
              "  Res.Df RSS          Df Sum of Sq    F        Pr(>F)\n",
              "1 21611  2.889500e+15 NA           NA       NA NA    \n",
              "2 21609  1.473289e+15  2 1.416211e+15 10385.91  0    "
            ]
          },
          "metadata": {}
        }
      ]
    },
    {
      "cell_type": "markdown",
      "source": [
        "Из этогго мы видим что p-value < 0.05 $ => $ гипотеза $H_0$ отвергается.Переменные sqft_living и/или sqft_above вносят значимый вклад в объяснение вариации цены."
      ],
      "metadata": {
        "id": "XUnueOAs_hYt"
      }
    },
    {
      "cell_type": "markdown",
      "source": [
        "Теперь рассмотрим ANOVA.  Приведены данные о мобильных телефонах. Фактор– ценовая категория, выходная переменная– емкость аккумулятора"
      ],
      "metadata": {
        "id": "fc6z0vglLtWQ"
      }
    },
    {
      "cell_type": "code",
      "source": [
        "data <- read.csv(\"mobile_phones.csv\", header = TRUE, stringsAsFactors = FALSE)"
      ],
      "metadata": {
        "id": "oVgzARHhNx7g"
      },
      "execution_count": null,
      "outputs": []
    },
    {
      "cell_type": "markdown",
      "source": [
        "Преобразуем ценовую категоирю в фактор:"
      ],
      "metadata": {
        "id": "inopX1iTOcVx"
      }
    },
    {
      "cell_type": "code",
      "source": [
        "data$price_range <- factor(data$price_range)"
      ],
      "metadata": {
        "id": "rMxGZDbCOb2W"
      },
      "execution_count": null,
      "outputs": []
    },
    {
      "cell_type": "markdown",
      "source": [
        "Далее рассмотрим распределение ёмкости аккумулятора по ценовым категориям:"
      ],
      "metadata": {
        "id": "9Ok2YU4UOo5o"
      }
    },
    {
      "cell_type": "code",
      "source": [
        "data %>%\n",
        "  group_by(price_range) %>%\n",
        "  summarise(\n",
        "    mean_battery = mean(battery_power),\n",
        "    sd_battery = sd(battery_power),\n",
        "    n = n()\n",
        "  )\n",
        "\n",
        "ggplot(data, aes(x = price_range, y = battery_power)) +\n",
        "  geom_boxplot() +\n",
        "  labs(title = \"Распределение емкости аккумулятора по ценовым категориям\",\n",
        "       x = \"Ценовая категория\",\n",
        "       y = \"Емкость аккумулятора (mAh)\")"
      ],
      "metadata": {
        "colab": {
          "base_uri": "https://localhost:8080/",
          "height": 643
        },
        "id": "eZHfznxSOwDj",
        "outputId": "10603a84-7981-4187-f78f-0f01e82612eb"
      },
      "execution_count": null,
      "outputs": [
        {
          "output_type": "display_data",
          "data": {
            "text/html": [
              "<table class=\"dataframe\">\n",
              "<caption>A tibble: 4 × 4</caption>\n",
              "<thead>\n",
              "\t<tr><th scope=col>price_range</th><th scope=col>mean_battery</th><th scope=col>sd_battery</th><th scope=col>n</th></tr>\n",
              "\t<tr><th scope=col>&lt;fct&gt;</th><th scope=col>&lt;dbl&gt;</th><th scope=col>&lt;dbl&gt;</th><th scope=col>&lt;int&gt;</th></tr>\n",
              "</thead>\n",
              "<tbody>\n",
              "\t<tr><td>0</td><td>1116.902</td><td>410.8013</td><td>500</td></tr>\n",
              "\t<tr><td>1</td><td>1228.868</td><td>438.6145</td><td>500</td></tr>\n",
              "\t<tr><td>2</td><td>1228.320</td><td>452.8631</td><td>500</td></tr>\n",
              "\t<tr><td>3</td><td>1379.984</td><td>414.9923</td><td>500</td></tr>\n",
              "</tbody>\n",
              "</table>\n"
            ],
            "text/markdown": "\nA tibble: 4 × 4\n\n| price_range &lt;fct&gt; | mean_battery &lt;dbl&gt; | sd_battery &lt;dbl&gt; | n &lt;int&gt; |\n|---|---|---|---|\n| 0 | 1116.902 | 410.8013 | 500 |\n| 1 | 1228.868 | 438.6145 | 500 |\n| 2 | 1228.320 | 452.8631 | 500 |\n| 3 | 1379.984 | 414.9923 | 500 |\n\n",
            "text/latex": "A tibble: 4 × 4\n\\begin{tabular}{llll}\n price\\_range & mean\\_battery & sd\\_battery & n\\\\\n <fct> & <dbl> & <dbl> & <int>\\\\\n\\hline\n\t 0 & 1116.902 & 410.8013 & 500\\\\\n\t 1 & 1228.868 & 438.6145 & 500\\\\\n\t 2 & 1228.320 & 452.8631 & 500\\\\\n\t 3 & 1379.984 & 414.9923 & 500\\\\\n\\end{tabular}\n",
            "text/plain": [
              "  price_range mean_battery sd_battery n  \n",
              "1 0           1116.902     410.8013   500\n",
              "2 1           1228.868     438.6145   500\n",
              "3 2           1228.320     452.8631   500\n",
              "4 3           1379.984     414.9923   500"
            ]
          },
          "metadata": {}
        },
        {
          "output_type": "display_data",
          "data": {
            "text/plain": [
              "plot without title"
            ],
            "image/png": "[encoded data removed]"
          },
          "metadata": {
            "image/png": {
              "width": 420,
              "height": 420
            }
          }
        }
      ]
    },
    {
      "cell_type": "markdown",
      "source": [
        "Как мы видим наибольшая ёмкость аккумулятора наблюдается в наибольшей ценовой категории, что соответсвует интуиции \\\n",
        "Теперь построим ANOVA:"
      ],
      "metadata": {
        "id": "S3AL76IzO_7k"
      }
    },
    {
      "cell_type": "code",
      "source": [
        "model <- aov(battery_power ~ price_range, data = data)\n",
        "summary(model)"
      ],
      "metadata": {
        "colab": {
          "base_uri": "https://localhost:8080/",
          "height": 104
        },
        "id": "P0gnIW1dPDC9",
        "outputId": "4c6311d9-7a4c-4112-ce85-0a94f4dd7da8"
      },
      "execution_count": null,
      "outputs": [
        {
          "output_type": "display_data",
          "data": {
            "text/plain": [
              "              Df    Sum Sq Mean Sq F value Pr(>F)    \n",
              "price_range    3  17500101 5833367    31.6 <2e-16 ***\n",
              "Residuals   1996 368483530  184611                   \n",
              "---\n",
              "Signif. codes:  0 ‘***’ 0.001 ‘**’ 0.01 ‘*’ 0.05 ‘.’ 0.1 ‘ ’ 1"
            ]
          },
          "metadata": {}
        }
      ]
    },
    {
      "cell_type": "markdown",
      "source": [
        "Гипотеза о равенстве средних отвергается (p < 0.05). Емкость аккумулятора значимо отличается между ценовыми категориями."
      ],
      "metadata": {
        "id": "xHGW3ZoAPNeT"
      }
    },
    {
      "cell_type": "markdown",
      "source": [
        "Проверим также условия ANOVA:"
      ],
      "metadata": {
        "id": "tSSaOK-kPQVs"
      }
    },
    {
      "cell_type": "code",
      "source": [
        "shapiro.test(resid(model))\n",
        "par(mfrow = c(1,2))\n",
        "hist(resid(model), main = \"Гистограмма остатков\", col = \"lightblue\")\n",
        "qqnorm(resid(model))\n",
        "qqline(resid(model))"
      ],
      "metadata": {
        "colab": {
          "base_uri": "https://localhost:8080/",
          "height": 524
        },
        "id": "h9VSl9-nPRci",
        "outputId": "fd3dc107-9778-41e1-d232-38ff3cfa58ed"
      },
      "execution_count": null,
      "outputs": [
        {
          "output_type": "display_data",
          "data": {
            "text/plain": [
              "\n",
              "\tShapiro-Wilk normality test\n",
              "\n",
              "data:  resid(model)\n",
              "W = 0.96688, p-value < 2.2e-16\n"
            ]
          },
          "metadata": {}
        },
        {
          "output_type": "display_data",
          "data": {
            "text/plain": [
              "Plot with title “Normal Q-Q Plot”"
            ],
            "image/png": "[encoded data removed]"
          },
          "metadata": {
            "image/png": {
              "width": 420,
              "height": 420
            }
          }
        }
      ]
    },
    {
      "cell_type": "markdown",
      "source": [
        "Несмотря на нарушение нормальности, ANOVA устойчив к умеренным отклонениям от нормальности, особенно при большом размере выборки (n > 30 в каждой группе), поэтому в нашем случае из-за огромности выборки это применимо \\\n",
        "Проверим гомогенность дисперсий:"
      ],
      "metadata": {
        "id": "ubHWryTHPnzR"
      }
    },
    {
      "cell_type": "code",
      "source": [
        "leveneTest(battery_power ~ price_range, data = data)"
      ],
      "metadata": {
        "colab": {
          "base_uri": "https://localhost:8080/",
          "height": 161
        },
        "id": "nu7su082Prpc",
        "outputId": "52de1a57-ca56-4344-8024-7238d593cde3"
      },
      "execution_count": null,
      "outputs": [
        {
          "output_type": "display_data",
          "data": {
            "text/html": [
              "<table class=\"dataframe\">\n",
              "<caption>A anova: 2 × 3</caption>\n",
              "<thead>\n",
              "\t<tr><th></th><th scope=col>Df</th><th scope=col>F value</th><th scope=col>Pr(&gt;F)</th></tr>\n",
              "\t<tr><th></th><th scope=col>&lt;int&gt;</th><th scope=col>&lt;dbl&gt;</th><th scope=col>&lt;dbl&gt;</th></tr>\n",
              "</thead>\n",
              "<tbody>\n",
              "\t<tr><th scope=row>group</th><td>   3</td><td>5.608473</td><td>0.0007921156</td></tr>\n",
              "\t<tr><th scope=row> </th><td>1996</td><td>      NA</td><td>          NA</td></tr>\n",
              "</tbody>\n",
              "</table>\n"
            ],
            "text/markdown": "\nA anova: 2 × 3\n\n| <!--/--> | Df &lt;int&gt; | F value &lt;dbl&gt; | Pr(&gt;F) &lt;dbl&gt; |\n|---|---|---|---|\n| group |    3 | 5.608473 | 0.0007921156 |\n| <!----> | 1996 |       NA |           NA |\n\n",
            "text/latex": "A anova: 2 × 3\n\\begin{tabular}{r|lll}\n  & Df & F value & Pr(>F)\\\\\n  & <int> & <dbl> & <dbl>\\\\\n\\hline\n\tgroup &    3 & 5.608473 & 0.0007921156\\\\\n\t  & 1996 &       NA &           NA\\\\\n\\end{tabular}\n",
            "text/plain": [
              "      Df   F value  Pr(>F)      \n",
              "group    3 5.608473 0.0007921156\n",
              "      1996       NA           NA"
            ]
          },
          "metadata": {}
        }
      ]
    },
    {
      "cell_type": "markdown",
      "source": [
        "Гипотеза о равенстве дисперсий отвергается (p < 0.05). Дисперсии ёмкости аккумулятора неоднородны между ценовыми категориями."
      ],
      "metadata": {
        "id": "jHwxpMurQQ2I"
      }
    },
    {
      "cell_type": "markdown",
      "source": [
        "Ни гомогенность, ни нормальность не получается, из-за чего ANOVA становится трудно применимой, хоть и имеется большая выборка.\n",
        "Тогда посмотрим на тест Крускалла-Уоллиса:"
      ],
      "metadata": {
        "id": "Lmt3HEAAQZlL"
      }
    },
    {
      "cell_type": "code",
      "source": [
        "kruskal.test(battery_power ~ price_range, data = data)"
      ],
      "metadata": {
        "colab": {
          "base_uri": "https://localhost:8080/",
          "height": 104
        },
        "id": "7zE2EyYMQg2H",
        "outputId": "faa9d2d1-21b8-4b4b-eff5-016278b60bb0"
      },
      "execution_count": null,
      "outputs": [
        {
          "output_type": "display_data",
          "data": {
            "text/plain": [
              "\n",
              "\tKruskal-Wallis rank sum test\n",
              "\n",
              "data:  battery_power by price_range\n",
              "Kruskal-Wallis chi-squared = 90.136, df = 3, p-value < 2.2e-16\n"
            ]
          },
          "metadata": {}
        }
      ]
    },
    {
      "cell_type": "markdown",
      "source": [
        "Ёмкость аккумулятора значимо различается между ценовыми категориями, но на практике они имеют ограниченную значимость."
      ],
      "metadata": {
        "id": "c9rBKySTQmUr"
      }
    }
  ]
}